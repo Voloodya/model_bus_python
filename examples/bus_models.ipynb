{
 "cells": [
  {
   "cell_type": "markdown",
   "metadata": {},
   "source": [
    "# Анализ вариантов обслуживания автобусов на основе имитационной модели"
   ]
  },
  {
   "cell_type": "code",
   "execution_count": 2,
   "metadata": {
    "pycharm": {
     "is_executing": false
    }
   },
   "outputs": [],
   "source": [
    "from examples.load_packages import load_packages\n",
    "\n",
    "load_packages()"
   ]
  },
  {
   "cell_type": "code",
   "execution_count": 3,
   "metadata": {
    "pycharm": {
     "is_executing": false
    }
   },
   "outputs": [],
   "source": [
    "from packages.bas_models.src.bus_generator import BusGenerator\n",
    "#Вероятность поломок\n",
    "generator = BusGenerator([0.4, 0.7])\n",
    "#Создаем автобус с заданной вероятностью поломок\n",
    "buses = generator.generate(1)\n",
    "flights = 10 #рейсы\n",
    "#Вероятности поломок\n",
    "probs = [\n",
    "    [0.0,0.05],\n",
    "    [0.1,0.05],\n",
    "    [0.2,0.11],\n",
    "    [0.3,0.11],\n",
    "    [0.4,0.15],\n",
    "    [0.5,0.15],\n",
    "    [0.6,0.19],\n",
    "    [0.7,0.19],\n",
    "    [0.8,0.23],\n",
    "    [0.9,0.23],\n",
    "    [1.0,0.7]]"
   ]
  },
  {
   "cell_type": "code",
   "execution_count": 4,
   "metadata": {
    "pycharm": {
     "is_executing": false
    }
   },
   "outputs": [],
   "source": [
    "from packages.bas_models.src.model import Model\n",
    "\n",
    "def arrange_statistics(model: Model, timing: [int]):\n",
    "    statistics = dict()\n",
    "    \n",
    "    for time in timing:\n",
    "        statistics[time] = get_statistics(model, time)\n",
    "    \n",
    "    return statistics\n",
    "\n",
    "def get_statistics(model: Model, days: int) -> int:\n",
    "    result = 0\n",
    "    \n",
    "    for day in range(0, days):\n",
    "        buses = model.run(flights) #Запуск метода курсирования авто конкретн модели\n",
    "        \n",
    "        result += sum(list(map(lambda x: x.flights, buses)))\n",
    "        \n",
    "        model.reset_buses()\n",
    "        \n",
    "    return result / days"
   ]
  },
  {
   "cell_type": "code",
   "execution_count": 5,
   "metadata": {
    "pycharm": {
     "is_executing": false
    }
   },
   "outputs": [],
   "source": [
    "import numpy as np\n",
    "import matplotlib.pyplot as plt\n",
    "\n",
    "def show_bar(keys, values, precision: int = 3):\n",
    "    keys = list(map(lambda x: str(x), keys))\n",
    "    values = list(map(lambda x: round(x, precision), values))\n",
    "    \n",
    "    bars = plt.bar(keys, values)\n",
    "    \n",
    "    autolabel(bars)\n",
    "    \n",
    "    plt.show()\n",
    "    \n",
    "def autolabel(bars, xpos='center'):\n",
    "    xpos = xpos.lower()\n",
    "    \n",
    "    ha = {'center': 'center', 'right': 'left', 'left': 'right'}\n",
    "    offset = {'center': 0.5, 'right': 0.57, 'left': 0.43}\n",
    "\n",
    "    for bar in bars:\n",
    "        height = bar.get_height()\n",
    "        plt.text(bar.get_x() + bar.get_width()*offset[xpos], 1.01*height,\n",
    "                '{}'.format(height), ha=ha[xpos], va='bottom')"
   ]
  },
  {
   "cell_type": "markdown",
   "metadata": {},
   "source": [
    "# Модель без ремонта мелких поломок"
   ]
  },
  {
   "cell_type": "code",
   "execution_count": 6,
   "metadata": {
    "pycharm": {
     "is_executing": false
    }
   },
   "outputs": [
    {
     "name": "stdout",
     "text": [
      "[1, 2, 3, 4, 5, 10, 20, 90] [2.0, 5.0, 1.6666666666666667, 2.25, 2.8, 2.8, 3.3, 3.3444444444444446]\n"
     ],
     "output_type": "stream"
    }
   ],
   "source": [
    "from packages.bas_models.src.nonstop_model import NonstopModel\n",
    "\n",
    "model = NonstopModel(buses)\n",
    "#Моделирование с заданным количеством дней\n",
    "statistics = arrange_statistics(model, [1,2,3,4,5,10,20,90])\n",
    "print(list(statistics.keys()), list(statistics.values()))\n",
    "#show_bar(list(statistics.keys()), list(statistics.values()))"
   ]
  },
  {
   "cell_type": "code",
   "execution_count": 7,
   "metadata": {
    "pycharm": {
     "is_executing": false
    }
   },
   "outputs": [
    {
     "name": "stdout",
     "text": [
      "['0.0/0.05', '0.1/0.05', '0.2/0.11', '0.3/0.11', '0.4/0.15', '0.5/0.15', '0.6/0.19', '0.7/0.19', '0.8/0.23', '0.9/0.23', '1.0/0.7'] [10.0, 9.555555555555555, 8.333333333333334, 7.655555555555556, 6.355555555555555, 6.022222222222222, 5.155555555555556, 4.444444444444445, 3.688888888888889, 3.966666666666667, 1.3888888888888888]\n"
     ],
     "output_type": "stream"
    }
   ],
   "source": [
    "from examples.bus_models.statistics_with_probs import StatisticsWithProbs\n",
    "from packages.bas_models.src.nonstop_model import NonstopModel\n",
    "\n",
    "stats_with_probs = StatisticsWithProbs(NonstopModel([]), 90, 10)\n",
    "\n",
    "statistics = stats_with_probs.arrange_statistics(probs)\n",
    "print(list(statistics.keys()), list(statistics.values()))\n",
    "\n",
    "#show_bar(list(statistics.keys()), list(statistics.values()), 2)"
   ]
  },
  {
   "cell_type": "markdown",
   "metadata": {},
   "source": [
    "# Модель с ремонтом мелких поломок"
   ]
  },
  {
   "cell_type": "code",
   "execution_count": 8,
   "metadata": {
    "pycharm": {
     "is_executing": false
    }
   },
   "outputs": [
    {
     "name": "stdout",
     "text": [
      "[1, 2, 3, 4, 5, 10, 20, 90] [6.0, 6.0, 5.666666666666667, 5.5, 6.6, 6.4, 5.85, 6.133333333333334]\n"
     ],
     "output_type": "stream"
    }
   ],
   "source": [
    "from packages.bas_models.src.repair_model import RepairModel\n",
    "\n",
    "model = RepairModel(buses)\n",
    "\n",
    "statistics = arrange_statistics(model, [1,2,3,4,5,10,20,90])\n",
    "print(list(statistics.keys()), list(statistics.values()))\n",
    "\n",
    "#show_bar(list(statistics.keys()), list(statistics.values()))"
   ]
  },
  {
   "cell_type": "code",
   "execution_count": 9,
   "metadata": {
    "pycharm": {
     "is_executing": false
    }
   },
   "outputs": [
    {
     "name": "stdout",
     "text": [
      "['0.0/0.05', '0.1/0.05', '0.2/0.11', '0.3/0.11', '0.4/0.15', '0.5/0.15', '0.6/0.19', '0.7/0.19', '0.8/0.23', '0.9/0.23', '1.0/0.7']",
      " [10.0, 9.044444444444444, 7.933333333333334, 7.1, 6.022222222222222, 5.011111111111111, 4.188888888888889, 3.2888888888888888, 2.2, 0.9777777777777777, 0.0]\n"
     ],
     "output_type": "stream"
    }
   ],
   "source": [
    "from examples.bus_models.statistics_with_probs import StatisticsWithProbs\n",
    "from packages.bas_models.src.repair_model import RepairModel\n",
    "\n",
    "stats_with_probs = StatisticsWithProbs(RepairModel([]), 90, 10)\n",
    "\n",
    "statistics = stats_with_probs.arrange_statistics(probs)\n",
    "print(list(statistics.keys()), list(statistics.values()))\n",
    "\n",
    "#show_bar(list(statistics.keys()), list(statistics.values()), 2)"
   ]
  },
  {
   "cell_type": "markdown",
   "metadata": {},
   "source": [
    "# Вывод\n",
    "\n",
    "В данных условиях модель без ремонта мелких поломок лучше подходит чем модель с ремонтом мелких поломок."
   ]
  }
 ],
 "metadata": {
  "kernelspec": {
   "display_name": "Python 3",
   "language": "python",
   "name": "python3"
  },
  "language_info": {
   "codemirror_mode": {
    "name": "ipython",
    "version": 3
   },
   "file_extension": ".py",
   "mimetype": "text/x-python",
   "name": "python",
   "nbconvert_exporter": "python",
   "pygments_lexer": "ipython3",
   "version": "3.7.1"
  },
  "pycharm": {
   "stem_cell": {
    "cell_type": "raw",
    "source": [],
    "metadata": {
     "collapsed": false
    }
   }
  }
 },
 "nbformat": 4,
 "nbformat_minor": 2
}